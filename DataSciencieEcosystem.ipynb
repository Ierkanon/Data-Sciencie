{
  "metadata": {
    "kernelspec": {
      "name": "python",
      "display_name": "Python (Pyodide)",
      "language": "python"
    },
    "language_info": {
      "codemirror_mode": {
        "name": "python",
        "version": 3
      },
      "file_extension": ".py",
      "mimetype": "text/x-python",
      "name": "python",
      "nbconvert_exporter": "python",
      "pygments_lexer": "ipython3",
      "version": "3.8"
    }
  },
  "nbformat_minor": 4,
  "nbformat": 4,
  "cells": [
    {
      "cell_type": "markdown",
      "source": "# Exercise 2: Data Sciencie Tools and Ecosystem",
      "metadata": {}
    },
    {
      "cell_type": "markdown",
      "source": "## Exercise 3: In this notebook, Data Science Tools and Ecosystem are summarized.",
      "metadata": {}
    },
    {
      "cell_type": "markdown",
      "source": "### Exercise 4: Create a markdown cell to list data science languages\n1. Python\n2. R\n3. Scala\n4. Julia\n5. SQL\n6. Java\n\n\n",
      "metadata": {}
    },
    {
      "cell_type": "markdown",
      "source": "### Exercise 5: Create a markdown cell to list data science libraries\n\n1. Tensorflow\n2. Keras\n3. Scikit learn\n4. Matplotlib\n",
      "metadata": {}
    },
    {
      "cell_type": "markdown",
      "source": "### Exercise 6: Create a markdown cell with a table of Data Science tools\n\n|Data Science Tools|\n|------------|\n|R Studio|\n|Spyder|\n|Anaconda|\n|Jupyter Studio|",
      "metadata": {}
    },
    {
      "cell_type": "markdown",
      "source": "### Exercise 7: Create a markdown cell introducing arithmetic expression examples\n### Below are a few examples of evaluating arithmetic expressions in Python",
      "metadata": {}
    },
    {
      "cell_type": "code",
      "source": "#Some expresion in Python\n\n5+3",
      "metadata": {
        "trusted": true
      },
      "outputs": [
        {
          "execution_count": 3,
          "output_type": "execute_result",
          "data": {
            "text/plain": "8"
          },
          "metadata": {}
        }
      ],
      "execution_count": 3
    },
    {
      "cell_type": "markdown",
      "source": "### Exercise 8: Create a code cell to multiply and add numbers",
      "metadata": {}
    },
    {
      "cell_type": "code",
      "source": "#This a simple arithmetic expression to mutiply then add integers\n(3*4)+5",
      "metadata": {
        "trusted": true
      },
      "outputs": [
        {
          "execution_count": 4,
          "output_type": "execute_result",
          "data": {
            "text/plain": "17"
          },
          "metadata": {}
        }
      ],
      "execution_count": 4
    },
    {
      "cell_type": "markdown",
      "source": "### Exercise 9: Create a code cell to convert minutes to hours",
      "metadata": {}
    },
    {
      "cell_type": "code",
      "source": "# This will convert 200 minutes to hours by diving by 60\nmin = 200\nhour = min/60\nf'200 minutes are {hour} hours'",
      "metadata": {
        "trusted": true
      },
      "outputs": [
        {
          "execution_count": 7,
          "output_type": "execute_result",
          "data": {
            "text/plain": "'200 minutes are 3.3333333333333335 hours'"
          },
          "metadata": {}
        }
      ],
      "execution_count": 7
    },
    {
      "cell_type": "markdown",
      "source": "### Exercise 10: Insert a markdown cell to list Objectives\n\n**Objectives:** \n- List popular languages for Data Science\n- List commonly used libraries for Data Science\n- Create and format markdown cells in Jupyter Notebooks\n- Convert time measurements from minutes to hours\n- List open source Data Science Tools for Data Science\n",
      "metadata": {}
    },
    {
      "cell_type": "markdown",
      "source": "### Exercise 11: Create a markdown cell to indicate the Author's name\n\n## Author\n\nPedro Ronda Pérez",
      "metadata": {}
    },
    {
      "cell_type": "code",
      "source": "",
      "metadata": {
        "trusted": true
      },
      "outputs": [],
      "execution_count": null
    }
  ]
}